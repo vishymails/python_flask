{
 "cells": [
  {
   "cell_type": "code",
   "execution_count": 1,
   "metadata": {},
   "outputs": [
    {
     "name": "stdout",
     "output_type": "stream",
     "text": [
      "Hello IBM\n"
     ]
    }
   ],
   "source": [
    "print(\"Hello IBM\")"
   ]
  },
  {
   "cell_type": "code",
   "execution_count": 2,
   "metadata": {},
   "outputs": [
    {
     "name": "stdout",
     "output_type": "stream",
     "text": [
      "Variable declaration and printing\n",
      "another var\n"
     ]
    }
   ],
   "source": [
    "a = \"Variable declaration and printing\"\n",
    "print(a)\n",
    "\n",
    "\n",
    "b = \"another var\"\n",
    "print(b)\n",
    "\n"
   ]
  },
  {
   "cell_type": "code",
   "execution_count": 3,
   "metadata": {},
   "outputs": [
    {
     "name": "stdout",
     "output_type": "stream",
     "text": [
      "100\n",
      "1000.0\n"
     ]
    }
   ],
   "source": [
    "counter = 100\n",
    "miles = 1000.00\n",
    "\n",
    "\n",
    "print(counter)\n",
    "print(miles)\n",
    "\n"
   ]
  },
  {
   "cell_type": "code",
   "execution_count": 4,
   "metadata": {},
   "outputs": [
    {
     "name": "stdout",
     "output_type": "stream",
     "text": [
      "100\n",
      "100\n",
      "100\n"
     ]
    }
   ],
   "source": [
    "x = y = z = 100\n",
    "\n",
    "print(x)\n",
    "print(y)\n",
    "print(z)\n"
   ]
  },
  {
   "cell_type": "code",
   "execution_count": 5,
   "metadata": {},
   "outputs": [
    {
     "name": "stdout",
     "output_type": "stream",
     "text": [
      "vishwanath\n",
      "45\n",
      "bangalore\n"
     ]
    }
   ],
   "source": [
    "name,age,address = \"vishwanath\", \"45\", \"bangalore\"\n",
    "\n",
    "print(name)\n",
    "print(age)\n",
    "print(address)\n"
   ]
  },
  {
   "cell_type": "code",
   "execution_count": 6,
   "metadata": {},
   "outputs": [
    {
     "name": "stdout",
     "output_type": "stream",
     "text": [
      "Vishwanath B Ramachandra Rao\n",
      "V\n",
      "shw\n",
      "anath B Ramachandra Rao\n",
      "Vishwanath B Ramachandra RaoVishwanath B Ramachandra Rao\n",
      "Vishwanath B Ramachandra RaoDr.\n"
     ]
    }
   ],
   "source": [
    "str = \"Vishwanath B Ramachandra Rao\"\n",
    "\n",
    "print(str)\n",
    "print(str[0])\n",
    "print(str[2:5])\n",
    "print(str[5:])\n",
    "print(str * 2)\n",
    "print(str + \"Dr.\")\n",
    "\n"
   ]
  },
  {
   "cell_type": "code",
   "execution_count": 7,
   "metadata": {},
   "outputs": [
    {
     "name": "stdout",
     "output_type": "stream",
     "text": [
      "['string1', 786, 2.23, 'string3', 89.9]\n",
      "string1\n",
      "[2.23, 'string3']\n",
      "[2.23, 'string3', 89.9]\n",
      "['string1', 786, 2.23, 'string3', 89.9, 'string1', 786, 2.23, 'string3', 89.9]\n",
      "['string1', 786, 2.23, 'string3', 89.9, 'wewe', 'rtrt', 'dfdf']\n"
     ]
    }
   ],
   "source": [
    "list1 = ['string1', 786, 2.23, 'string3', 89.9]\n",
    "\n",
    "print(list1)\n",
    "print(list1[0])\n",
    "print(list1[2:4])\n",
    "print(list1[2:])\n",
    "print(list1 * 2)\n",
    "\n",
    "tinylist = ['wewe', 'rtrt', 'dfdf']\n",
    "print(list1 + tinylist)"
   ]
  },
  {
   "cell_type": "code",
   "execution_count": 8,
   "metadata": {},
   "outputs": [
    {
     "name": "stdout",
     "output_type": "stream",
     "text": [
      "('string1', 786, 2.23, 'string3', 89.9)\n",
      "string1\n",
      "(2.23, 'string3')\n",
      "(2.23, 'string3', 89.9)\n",
      "('string1', 786, 2.23, 'string3', 89.9, 'string1', 786, 2.23, 'string3', 89.9)\n",
      "['string1', 786, 2.23, 'string3', 89.9, 'wewe', 'rtrt', 'dfdf']\n"
     ]
    }
   ],
   "source": [
    "tuple1 = ('string1', 786, 2.23, 'string3', 89.9)\n",
    "\n",
    "print(tuple1)\n",
    "print(tuple1[0])\n",
    "print(tuple1[2:4])\n",
    "print(tuple1[2:])\n",
    "print(tuple1 * 2)\n",
    "\n",
    "tuple1list = ['wewe', 'rtrt', 'dfdf']\n",
    "print(list1 + tuple1list)"
   ]
  },
  {
   "cell_type": "code",
   "execution_count": 10,
   "metadata": {},
   "outputs": [
    {
     "name": "stdout",
     "output_type": "stream",
     "text": [
      "this is one\n",
      "this is two\n",
      "{'name': 'Vishwanath', 'code': 6734, 'dept': 'Research'}\n",
      "dict_keys(['name', 'code', 'dept'])\n",
      "dict_values(['Vishwanath', 6734, 'Research'])\n"
     ]
    }
   ],
   "source": [
    "dict = {}\n",
    "\n",
    "dict['one'] = \"this is one\"\n",
    "dict[2] = \"this is two\"\n",
    "\n",
    "tinydict = {'name' : 'Vishwanath', 'code' : 6734, 'dept' : 'Research'}\n",
    "\n",
    "print(dict['one'])\n",
    "print(dict[2])\n",
    "print(tinydict)\n",
    "print(tinydict.keys())\n",
    "print(tinydict.values())\n"
   ]
  },
  {
   "cell_type": "code",
   "execution_count": 11,
   "metadata": {},
   "outputs": [
    {
     "name": "stdout",
     "output_type": "stream",
     "text": [
      "value expression is 400\n",
      "bye\n"
     ]
    }
   ],
   "source": [
    "var = 400\n",
    "if(var == 400) : print(\"value expression is 400\")\n",
    "print(\"bye\")\n"
   ]
  },
  {
   "cell_type": "code",
   "execution_count": 12,
   "metadata": {},
   "outputs": [
    {
     "name": "stdout",
     "output_type": "stream",
     "text": [
      "3\n"
     ]
    }
   ],
   "source": [
    "x,y = 4, 3\n",
    "\n",
    "if x < y :\n",
    "    smaller = x\n",
    "else :\n",
    "    smaller = y\n",
    "\n",
    "print(smaller)\n",
    "\n"
   ]
  },
  {
   "cell_type": "code",
   "execution_count": 13,
   "metadata": {},
   "outputs": [
    {
     "name": "stdout",
     "output_type": "stream",
     "text": [
      "3\n"
     ]
    }
   ],
   "source": [
    "smaller = (x < y and [x] or [y])[0]\n",
    "print(smaller)"
   ]
  },
  {
   "cell_type": "code",
   "execution_count": 14,
   "metadata": {},
   "outputs": [
    {
     "name": "stdout",
     "output_type": "stream",
     "text": [
      "3\n"
     ]
    }
   ],
   "source": [
    "smaller = x if x < y else y\n",
    "\n",
    "print(smaller)\n"
   ]
  },
  {
   "cell_type": "code",
   "execution_count": 15,
   "metadata": {},
   "outputs": [
    {
     "name": "stdout",
     "output_type": "stream",
     "text": [
      "what is your name?Anil Kumar\n",
      "Hello Other\n"
     ]
    }
   ],
   "source": [
    "name = input(\"what is your name?\")\n",
    "\n",
    "if(name.endswith('Rao')) :\n",
    "    print(\"Hi, Mr. Rao\")\n",
    "else :\n",
    "    print(\"Hello Other\")"
   ]
  },
  {
   "cell_type": "code",
   "execution_count": 16,
   "metadata": {},
   "outputs": [
    {
     "name": "stdout",
     "output_type": "stream",
     "text": [
      "The count is :  0\n",
      "The count is :  1\n",
      "The count is :  2\n",
      "The count is :  3\n",
      "The count is :  4\n",
      "The count is :  5\n",
      "The count is :  6\n",
      "The count is :  7\n",
      "The count is :  8\n",
      "end\n"
     ]
    }
   ],
   "source": [
    "count = 0\n",
    "\n",
    "while(count < 9) :\n",
    "    print(\"The count is : \", count)\n",
    "    count = count + 1\n",
    "    \n",
    "print(\"end\")\n"
   ]
  },
  {
   "cell_type": "code",
   "execution_count": 17,
   "metadata": {},
   "outputs": [
    {
     "name": "stdout",
     "output_type": "stream",
     "text": [
      "The count is :  0\n",
      "The count is :  1\n",
      "The count is :  2\n",
      "The count is :  3\n",
      "The count is :  4\n",
      "The count is :  5\n",
      "The count is :  6\n",
      "The count is :  7\n",
      "The count is :  8\n",
      "9 is not less than 9\n"
     ]
    }
   ],
   "source": [
    "count = 0\n",
    "\n",
    "while(count < 9) :\n",
    "    print(\"The count is : \", count)\n",
    "    count = count + 1\n",
    "else :\n",
    "    print(count, \"is not less than 9\")"
   ]
  },
  {
   "cell_type": "code",
   "execution_count": 18,
   "metadata": {},
   "outputs": [
    {
     "name": "stdout",
     "output_type": "stream",
     "text": [
      "Current letter : P\n",
      "Current letter : y\n",
      "Current letter : t\n",
      "Current letter : h\n",
      "Current letter : o\n",
      "Current letter : n\n"
     ]
    }
   ],
   "source": [
    "for letter in \"Python\" :\n",
    "    print(\"Current letter :\" , letter)\n",
    "    "
   ]
  },
  {
   "cell_type": "code",
   "execution_count": 19,
   "metadata": {},
   "outputs": [
    {
     "name": "stdout",
     "output_type": "stream",
     "text": [
      "Current fruit : banaba\n",
      "Current fruit : apple\n",
      "Current fruit : mango\n"
     ]
    }
   ],
   "source": [
    "fruits = [\"banaba\", \"apple\", \"mango\"]\n",
    "\n",
    "for fruit in fruits :\n",
    "    print(\"Current fruit :\" , fruit)\n",
    "    "
   ]
  },
  {
   "cell_type": "code",
   "execution_count": 20,
   "metadata": {},
   "outputs": [
    {
     "name": "stdout",
     "output_type": "stream",
     "text": [
      "current letter P\n",
      "current letter y\n",
      "current letter t\n"
     ]
    }
   ],
   "source": [
    "for letter in 'Python' :\n",
    "    if letter == 'h' :\n",
    "        break\n",
    "    print(\"current letter\", letter)\n",
    "    \n",
    "    "
   ]
  },
  {
   "cell_type": "code",
   "execution_count": 21,
   "metadata": {},
   "outputs": [
    {
     "name": "stdout",
     "output_type": "stream",
     "text": [
      "current letter P\n",
      "current letter y\n",
      "current letter t\n",
      "current letter o\n",
      "current letter n\n"
     ]
    }
   ],
   "source": [
    "for letter in 'Python' :\n",
    "    if letter == 'h' :\n",
    "        continue\n",
    "    print(\"current letter\", letter)\n",
    "    "
   ]
  },
  {
   "cell_type": "code",
   "execution_count": 22,
   "metadata": {},
   "outputs": [
    {
     "name": "stdout",
     "output_type": "stream",
     "text": [
      "current letter P\n",
      "current letter y\n",
      "current letter t\n",
      "Added extra block execution\n",
      "current letter h\n",
      "current letter o\n",
      "current letter n\n"
     ]
    }
   ],
   "source": [
    "for letter in 'Python' :\n",
    "    if letter == 'h' :\n",
    "        pass\n",
    "        print(\"Added extra block execution\")\n",
    "    print(\"current letter\", letter)\n",
    "    "
   ]
  },
  {
   "cell_type": "code",
   "execution_count": 23,
   "metadata": {},
   "outputs": [
    {
     "name": "stdout",
     "output_type": "stream",
     "text": [
      "120\n"
     ]
    }
   ],
   "source": [
    "choice = 'dal'\n",
    "print ({'rice' : 55,\n",
    "       'dal' : 120,\n",
    "       'spices' : 200,\n",
    "       'fruits' : 100}[choice])"
   ]
  },
  {
   "cell_type": "code",
   "execution_count": 24,
   "metadata": {},
   "outputs": [
    {
     "data": {
      "text/plain": [
       "'comments multi line'"
      ]
     },
     "execution_count": 24,
     "metadata": {},
     "output_type": "execute_result"
    }
   ],
   "source": [
    "\"\"\"comments multi line\"\"\""
   ]
  },
  {
   "cell_type": "code",
   "execution_count": 25,
   "metadata": {},
   "outputs": [
    {
     "name": "stdout",
     "output_type": "stream",
     "text": [
      "True\n",
      "True\n",
      "False\n",
      "True\n"
     ]
    }
   ],
   "source": [
    "print(True)\n",
    "print (True == 1)\n",
    "print (False)\n",
    "print(False == 0)"
   ]
  },
  {
   "cell_type": "code",
   "execution_count": 27,
   "metadata": {},
   "outputs": [
    {
     "name": "stdout",
     "output_type": "stream",
     "text": [
      "42\n",
      "142\n",
      "42\n",
      "42\n"
     ]
    }
   ],
   "source": [
    "var = 42\n",
    "var2 = var1 < 100\n",
    "\n",
    "print(var2)\n",
    "print(var)\n",
    "print(var + 100)\n",
    "\n",
    "print ('%s' % var)\n",
    "print ('%d' % var)\n"
   ]
  },
  {
   "cell_type": "code",
   "execution_count": null,
   "metadata": {},
   "outputs": [],
   "source": []
  }
 ],
 "metadata": {
  "kernelspec": {
   "display_name": "Python 3",
   "language": "python",
   "name": "python3"
  },
  "language_info": {
   "codemirror_mode": {
    "name": "ipython",
    "version": 3
   },
   "file_extension": ".py",
   "mimetype": "text/x-python",
   "name": "python",
   "nbconvert_exporter": "python",
   "pygments_lexer": "ipython3",
   "version": "3.7.1"
  }
 },
 "nbformat": 4,
 "nbformat_minor": 2
}
