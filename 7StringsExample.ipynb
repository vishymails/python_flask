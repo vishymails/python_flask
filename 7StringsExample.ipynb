{
 "cells": [
  {
   "cell_type": "code",
   "execution_count": 1,
   "metadata": {},
   "outputs": [
    {
     "name": "stdout",
     "output_type": "stream",
     "text": [
      "var1[0]:  H\n",
      "var2[1:5]:  ytho\n"
     ]
    }
   ],
   "source": [
    "var1 = 'Hello World!'\n",
    "var2 = \"Python Programming\"\n",
    "\n",
    "print (\"var1[0]: \", var1[0])\n",
    "print (\"var2[1:5]: \", var2[1:5])\n"
   ]
  },
  {
   "cell_type": "code",
   "execution_count": 2,
   "metadata": {},
   "outputs": [
    {
     "name": "stdout",
     "output_type": "stream",
     "text": [
      "Updated String :-  Hello Python\n"
     ]
    }
   ],
   "source": [
    "\n",
    "var1 = 'Hello World!'\n",
    "print (\"Updated String :- \", var1[:6] + 'Python')"
   ]
  },
  {
   "cell_type": "code",
   "execution_count": null,
   "metadata": {},
   "outputs": [],
   "source": []
  },
  {
   "cell_type": "code",
   "execution_count": 1,
   "metadata": {},
   "outputs": [
    {
     "name": "stdout",
     "output_type": "stream",
     "text": [
      "                  Now I am here.                  \n",
      "                                    Now I am here.\n",
      "Now I am here.                                    \n"
     ]
    }
   ],
   "source": [
    "\n",
    "\n",
    "string1 = \"Now I am here.\"\n",
    "\n",
    "print (string1.center( 50 ))\n",
    "print (string1.rjust( 50 ))\n",
    "print (string1.ljust( 50 ))\n"
   ]
  },
  {
   "cell_type": "code",
   "execution_count": 3,
   "metadata": {},
   "outputs": [
    {
     "name": "stdout",
     "output_type": "stream",
     "text": [
      "My name is Sushi and weight is 21 kg!\n"
     ]
    }
   ],
   "source": [
    "\n",
    "\n",
    "print (\"My name is %s and weight is %d kg!\" % ('Sushi', 21))\n"
   ]
  },
  {
   "cell_type": "code",
   "execution_count": 2,
   "metadata": {},
   "outputs": [
    {
     "name": "stdout",
     "output_type": "stream",
     "text": [
      "True\n",
      "True\n"
     ]
    }
   ],
   "source": [
    "\n",
    "print (\"alpha\" < \"beta\")\n",
    "\n",
    "\n",
    "print ('FnOrD'.lower() == 'Fnord'.lower())\n"
   ]
  },
  {
   "cell_type": "code",
   "execution_count": 4,
   "metadata": {},
   "outputs": [
    {
     "name": "stdout",
     "output_type": "stream",
     "text": [
      "this is a long string that is made up of\n",
      "several lines and non-printable characters such as\n",
      "TAB ( \t ) and they will show up that way when displayed.\n",
      "NEWLINEs within the string, whether explicitly given like\n",
      "this within the brackets [ \n",
      " ], or just a NEWLINE within\n",
      "the variable assignment will also show up.\n",
      "\n"
     ]
    }
   ],
   "source": [
    "\n",
    "para_str = \"\"\"this is a long string that is made up of\n",
    "several lines and non-printable characters such as\n",
    "TAB ( \\t ) and they will show up that way when displayed.\n",
    "NEWLINEs within the string, whether explicitly given like\n",
    "this within the brackets [ \\n ], or just a NEWLINE within\n",
    "the variable assignment will also show up.\n",
    "\"\"\"\n",
    "print (para_str)\n"
   ]
  },
  {
   "cell_type": "code",
   "execution_count": 5,
   "metadata": {},
   "outputs": [
    {
     "name": "stdout",
     "output_type": "stream",
     "text": [
      "C:\\nowhere\n"
     ]
    }
   ],
   "source": [
    "\n",
    "print ('C:\\\\nowhere')\n"
   ]
  },
  {
   "cell_type": "code",
   "execution_count": 6,
   "metadata": {},
   "outputs": [
    {
     "name": "stdout",
     "output_type": "stream",
     "text": [
      "C:\\\\nowhere\n"
     ]
    }
   ],
   "source": [
    "#raw string \n",
    "\n",
    "\n",
    "print( r'C:\\\\nowhere')\n"
   ]
  },
  {
   "cell_type": "code",
   "execution_count": 7,
   "metadata": {},
   "outputs": [
    {
     "name": "stdout",
     "output_type": "stream",
     "text": [
      "Hello, world!\n"
     ]
    }
   ],
   "source": [
    "#!unicode string \n",
    "\n",
    "print( u'Hello, world!')"
   ]
  },
  {
   "cell_type": "code",
   "execution_count": 8,
   "metadata": {},
   "outputs": [
    {
     "name": "stdout",
     "output_type": "stream",
     "text": [
      "str.capitalize() :  This is string example....wow!!!\n"
     ]
    }
   ],
   "source": [
    "\n",
    "\n",
    "str = \"this is string example....wow!!!\";\n",
    "print( \"str.capitalize() : \", str.capitalize())\n"
   ]
  },
  {
   "cell_type": "code",
   "execution_count": 9,
   "metadata": {},
   "outputs": [
    {
     "name": "stdout",
     "output_type": "stream",
     "text": [
      "str.center(40, 'a') :  aaaathis is string example....wow!!!aaaa\n"
     ]
    }
   ],
   "source": [
    "\n",
    "str = \"this is string example....wow!!!\";\n",
    "print (\"str.center(40, 'a') : \", str.center(40, 'a'))\n"
   ]
  },
  {
   "cell_type": "code",
   "execution_count": 10,
   "metadata": {},
   "outputs": [
    {
     "name": "stdout",
     "output_type": "stream",
     "text": [
      "str.count(sub, 4, 40) :  2\n",
      "str.count(sub) :  1\n"
     ]
    }
   ],
   "source": [
    "\n",
    "str = \"this is string example....wow!!!\";\n",
    "\n",
    "sub = \"i\";\n",
    "print (\"str.count(sub, 4, 40) : \", str.count(sub, 4, 40))\n",
    "sub = \"wow\";\n",
    "print (\"str.count(sub) : \", str.count(sub))\n"
   ]
  },
  {
   "cell_type": "code",
   "execution_count": 11,
   "metadata": {},
   "outputs": [
    {
     "name": "stdout",
     "output_type": "stream",
     "text": [
      "Encoded String:  b'dGhpcyBpcyBzdHJpbmcgZXhhbXBsZS4uLi53b3chISE='\n"
     ]
    }
   ],
   "source": [
    "\n",
    "import base64\n",
    "\n",
    "\n",
    "\n",
    "Str = \"this is string example....wow!!!\"\n",
    "Str = base64.b64encode(Str.encode('utf-8',errors = 'strict'))\n",
    "\n",
    "print (\"Encoded String: \" , Str)\n"
   ]
  },
  {
   "cell_type": "code",
   "execution_count": 12,
   "metadata": {},
   "outputs": [
    {
     "name": "stdout",
     "output_type": "stream",
     "text": [
      "True\n",
      "True\n",
      "True\n",
      "False\n"
     ]
    }
   ],
   "source": [
    "\n",
    "\n",
    "str = \"this is string example....wow!!!\";\n",
    "\n",
    "suffix = \"wow!!!\";\n",
    "print (str.endswith(suffix))\n",
    "print (str.endswith(suffix,20))\n",
    "\n",
    "suffix = \"is\";\n",
    "print (str.endswith(suffix, 2, 4))\n",
    "print (str.endswith(suffix, 2, 6))"
   ]
  },
  {
   "cell_type": "code",
   "execution_count": 13,
   "metadata": {},
   "outputs": [
    {
     "name": "stdout",
     "output_type": "stream",
     "text": [
      "Original string: this is\tstring example....wow!!!\n",
      "Defualt exapanded tab: this is string example....wow!!!\n",
      "Double exapanded tab: this is         string example....wow!!!\n"
     ]
    }
   ],
   "source": [
    "\n",
    "\n",
    "str = \"this is\\tstring example....wow!!!\";\n",
    "\n",
    "print (\"Original string: \" + str)\n",
    "print (\"Defualt exapanded tab: \" +  str.expandtabs())\n",
    "print (\"Double exapanded tab: \" +  str.expandtabs(16))\n",
    "\n",
    "\n"
   ]
  },
  {
   "cell_type": "code",
   "execution_count": 14,
   "metadata": {},
   "outputs": [
    {
     "name": "stdout",
     "output_type": "stream",
     "text": [
      "15\n",
      "15\n",
      "-1\n"
     ]
    }
   ],
   "source": [
    "\n",
    "str1 = \"this is string example....wow!!!\";\n",
    "str2 = \"exam\";\n",
    "\n",
    "print (str1.find(str2))\n",
    "print (str1.find(str2, 10))\n",
    "print (str1.find(str2, 40))\n",
    "\n"
   ]
  },
  {
   "cell_type": "code",
   "execution_count": 15,
   "metadata": {},
   "outputs": [
    {
     "name": "stdout",
     "output_type": "stream",
     "text": [
      "15\n",
      "15\n",
      "15\n"
     ]
    }
   ],
   "source": [
    "\n",
    "str1 = \"this is string example....wow!!!\";\n",
    "str2 = \"exam\";\n",
    "\n",
    "print (str1.index(str2))\n",
    "print (str1.index(str2, 10))\n",
    "print (str1.index(str2, 10))\n",
    "\n"
   ]
  },
  {
   "cell_type": "code",
   "execution_count": 16,
   "metadata": {},
   "outputs": [
    {
     "name": "stdout",
     "output_type": "stream",
     "text": [
      "True\n",
      "False\n"
     ]
    }
   ],
   "source": [
    "\n",
    "str = \"this2009\";  # No space in this string\n",
    "print (str.isalnum())\n",
    "\n",
    "str = \"this is string example....wow!!!\";\n",
    "print (str.isalnum())\n"
   ]
  },
  {
   "cell_type": "code",
   "execution_count": 17,
   "metadata": {},
   "outputs": [
    {
     "name": "stdout",
     "output_type": "stream",
     "text": [
      "True\n",
      "False\n"
     ]
    }
   ],
   "source": [
    "\n",
    "str = \"this\";  # No space & digit in this string\n",
    "print (str.isalpha())\n",
    "\n",
    "str = \"this is string example....wow!!!\";\n",
    "print (str.isalpha())\n",
    "\n",
    "\n"
   ]
  },
  {
   "cell_type": "code",
   "execution_count": 18,
   "metadata": {},
   "outputs": [
    {
     "name": "stdout",
     "output_type": "stream",
     "text": [
      "True\n",
      "False\n"
     ]
    }
   ],
   "source": [
    "\n",
    "str = \"123456\";  # Only digit in this string\n",
    "print (str.isdigit())\n",
    "\n",
    "str = \"this is string example....wow!!!\";\n",
    "print (str.isdigit())\n",
    "\n"
   ]
  },
  {
   "cell_type": "code",
   "execution_count": 19,
   "metadata": {},
   "outputs": [
    {
     "name": "stdout",
     "output_type": "stream",
     "text": [
      "False\n",
      "True\n"
     ]
    }
   ],
   "source": [
    "\n",
    "str = \"THIS is string example....wow!!!\"; \n",
    "print (str.islower())\n",
    "\n",
    "str = \"this is string example....wow!!!\";\n",
    "print (str.islower())\n",
    "\n"
   ]
  },
  {
   "cell_type": "code",
   "execution_count": 20,
   "metadata": {},
   "outputs": [
    {
     "name": "stdout",
     "output_type": "stream",
     "text": [
      "False\n",
      "True\n"
     ]
    }
   ],
   "source": [
    "\n",
    "str = u\"this2009\";  \n",
    "print (str.isnumeric())\n",
    "\n",
    "str = u\"23443434\";\n",
    "print (str.isnumeric())\n",
    "\n"
   ]
  },
  {
   "cell_type": "code",
   "execution_count": 21,
   "metadata": {},
   "outputs": [
    {
     "name": "stdout",
     "output_type": "stream",
     "text": [
      "True\n",
      "False\n"
     ]
    }
   ],
   "source": [
    "\n",
    "str = \"       \"; \n",
    "print (str.isspace())\n",
    "\n",
    "str = \"This is string example....wow!!!\";\n",
    "print (str.isspace())\n"
   ]
  },
  {
   "cell_type": "code",
   "execution_count": 22,
   "metadata": {},
   "outputs": [
    {
     "name": "stdout",
     "output_type": "stream",
     "text": [
      "True\n",
      "False\n"
     ]
    }
   ],
   "source": [
    "\n",
    "str = \"This Is String Example...Wow!!!\";\n",
    "print (str.istitle())\n",
    "\n",
    "str = \"This is string example....wow!!!\";\n",
    "print (str.istitle())\n",
    "\n",
    "\n"
   ]
  },
  {
   "cell_type": "code",
   "execution_count": 23,
   "metadata": {},
   "outputs": [
    {
     "name": "stdout",
     "output_type": "stream",
     "text": [
      "True\n",
      "False\n"
     ]
    }
   ],
   "source": [
    "\n",
    "str = \"THIS IS STRING EXAMPLE....WOW!!!\"; \n",
    "print (str.isupper())\n",
    "\n",
    "str = \"THIS is string example....wow!!!\";\n",
    "print (str.isupper())\n",
    "\n"
   ]
  },
  {
   "cell_type": "code",
   "execution_count": 24,
   "metadata": {},
   "outputs": [
    {
     "name": "stdout",
     "output_type": "stream",
     "text": [
      "a-b-c\n"
     ]
    }
   ],
   "source": [
    "\n",
    "s = \"-\";\n",
    "seq = (\"a\", \"b\", \"c\"); # This is sequence of strings.\n",
    "print (s.join( seq ))\n",
    "\n"
   ]
  },
  {
   "cell_type": "code",
   "execution_count": 25,
   "metadata": {},
   "outputs": [
    {
     "name": "stdout",
     "output_type": "stream",
     "text": [
      "Length of the string:  32\n"
     ]
    }
   ],
   "source": [
    "\n",
    "str = \"this is string example....wow!!!\";\n",
    "print (\"Length of the string: \", len(str))\n",
    "\n",
    "\n"
   ]
  },
  {
   "cell_type": "code",
   "execution_count": 26,
   "metadata": {},
   "outputs": [
    {
     "name": "stdout",
     "output_type": "stream",
     "text": [
      "this is string example....wow!!!000000000000000000\n"
     ]
    }
   ],
   "source": [
    "\n",
    "str = \"this is string example....wow!!!\";\n",
    "print (str.ljust(50, '0'))\n",
    "\n",
    "\n"
   ]
  },
  {
   "cell_type": "code",
   "execution_count": 27,
   "metadata": {},
   "outputs": [
    {
     "name": "stdout",
     "output_type": "stream",
     "text": [
      "this is string example....wow!!!\n"
     ]
    }
   ],
   "source": [
    "str = \"THIS IS STRING EXAMPLE....WOW!!!\";\n",
    "print (str.lower())\n"
   ]
  },
  {
   "cell_type": "code",
   "execution_count": 28,
   "metadata": {},
   "outputs": [
    {
     "name": "stdout",
     "output_type": "stream",
     "text": [
      "this is string example....wow!!!     \n",
      "this is string example....wow!!!8888888\n"
     ]
    }
   ],
   "source": [
    "\n",
    "str = \"     this is string example....wow!!!     \";\n",
    "print (str.lstrip())\n",
    "str = \"88888888this is string example....wow!!!8888888\";\n",
    "print ( str.lstrip('8'))\n"
   ]
  },
  {
   "cell_type": "code",
   "execution_count": 29,
   "metadata": {},
   "outputs": [
    {
     "name": "stdout",
     "output_type": "stream",
     "text": [
      "th3s 3s str3ng 2x1mpl2....w4w!!!\n"
     ]
    }
   ],
   "source": [
    "\n",
    "intab = \"aeiou\"\n",
    "outtab = \"12345\"\n",
    "trantab = str.maketrans(intab, outtab)\n",
    "\n",
    "str = \"this is string example....wow!!!\"\n",
    "print (str.translate(trantab))\n"
   ]
  },
  {
   "cell_type": "code",
   "execution_count": 30,
   "metadata": {},
   "outputs": [
    {
     "name": "stdout",
     "output_type": "stream",
     "text": [
      "Min character: !\n",
      "Min character: !\n"
     ]
    }
   ],
   "source": [
    "\n",
    "str = \"this-is-real-string-example....wow!!!\";\n",
    "print (\"Min character: \" + min(str))\n",
    "\n",
    "str = \"this-is-a-string-example....wow!!!\";\n",
    "print (\"Min character: \" + min(str))\n"
   ]
  },
  {
   "cell_type": "code",
   "execution_count": 31,
   "metadata": {},
   "outputs": [
    {
     "name": "stdout",
     "output_type": "stream",
     "text": [
      "thwas was string example....wow!!! thwas was really string\n",
      "thwas was string example....wow!!! thwas is really string\n"
     ]
    }
   ],
   "source": [
    "\n",
    "\n",
    "str = \"this is string example....wow!!! this is really string\"\n",
    "print (str.replace(\"is\", \"was\"))\n",
    "print (str.replace(\"is\", \"was\", 3))\n"
   ]
  },
  {
   "cell_type": "code",
   "execution_count": 32,
   "metadata": {},
   "outputs": [
    {
     "name": "stdout",
     "output_type": "stream",
     "text": [
      "5\n",
      "5\n",
      "-1\n",
      "2\n",
      "2\n",
      "-1\n"
     ]
    }
   ],
   "source": [
    "\n",
    "str1 = \"this is really a string example....wow!!!\";\n",
    "str2 = \"is\";\n",
    "\n",
    "print (str1.rfind(str2))\n",
    "print (str1.rfind(str2, 0, 10))\n",
    "print (str1.rfind(str2, 10, 0))\n",
    "\n",
    "print (str1.find(str2))\n",
    "print (str1.find(str2, 0, 10))\n",
    "print (str1.find(str2, 10, 0))\n"
   ]
  },
  {
   "cell_type": "code",
   "execution_count": 33,
   "metadata": {},
   "outputs": [
    {
     "name": "stdout",
     "output_type": "stream",
     "text": [
      "5\n",
      "2\n"
     ]
    }
   ],
   "source": [
    "\n",
    "str1 = \"this is string example....wow!!!\";\n",
    "str2 = \"is\";\n",
    "\n",
    "print (str1.rindex(str2))\n",
    "print (str1.index(str2))\n",
    "\n"
   ]
  },
  {
   "cell_type": "code",
   "execution_count": 34,
   "metadata": {},
   "outputs": [
    {
     "name": "stdout",
     "output_type": "stream",
     "text": [
      "000000000000000000this is string example....wow!!!\n"
     ]
    }
   ],
   "source": [
    "\n",
    "str = \"this is string example....wow!!!\";\n",
    "print (str.rjust(50, '0'))\n"
   ]
  },
  {
   "cell_type": "code",
   "execution_count": 35,
   "metadata": {},
   "outputs": [
    {
     "name": "stdout",
     "output_type": "stream",
     "text": [
      "     this is string example....wow!!!\n",
      "88888888this is string example....wow!!!\n"
     ]
    }
   ],
   "source": [
    "\n",
    "str = \"     this is string example....wow!!!     \";\n",
    "print (str.rstrip())\n",
    "str = \"88888888this is string example....wow!!!8888888\";\n",
    "print (str.rstrip('8'))\n",
    "\n",
    "\n"
   ]
  },
  {
   "cell_type": "code",
   "execution_count": 36,
   "metadata": {},
   "outputs": [
    {
     "name": "stdout",
     "output_type": "stream",
     "text": [
      "['Line1-abcdef', 'Line2-abc', 'Line4-abcd']\n",
      "['Line1-abcdef', '\\nLine2-abc \\nLine4-abcd']\n"
     ]
    }
   ],
   "source": [
    "\n",
    "str = \"Line1-abcdef \\nLine2-abc \\nLine4-abcd\";\n",
    "print (str.split( ))\n",
    "print (str.split(' ', 1 ))\n"
   ]
  },
  {
   "cell_type": "code",
   "execution_count": 37,
   "metadata": {},
   "outputs": [
    {
     "name": "stdout",
     "output_type": "stream",
     "text": [
      "['Line1-a b c d e f', 'Line2- a b c', '', 'Line4- a b c d']\n",
      "['Line1-a b c d e f', 'Line2- a b c', '', 'Line4- a b c d']\n",
      "['Line1-a b c d e f\\n', 'Line2- a b c\\n', '\\n', 'Line4- a b c d']\n",
      "['Line1-a b c d e f\\n', 'Line2- a b c\\n', '\\n', 'Line4- a b c d']\n",
      "['Line1-a b c d e f\\n', 'Line2- a b c\\n', '\\n', 'Line4- a b c d']\n"
     ]
    }
   ],
   "source": [
    "\n",
    "str = \"Line1-a b c d e f\\nLine2- a b c\\n\\nLine4- a b c d\";\n",
    "print (str.splitlines( ))\n",
    "print (str.splitlines( 0 ))\n",
    "print (str.splitlines( 3 ))\n",
    "print (str.splitlines( 4 ))\n",
    "print (str.splitlines( 5 ))\n"
   ]
  },
  {
   "cell_type": "code",
   "execution_count": 38,
   "metadata": {},
   "outputs": [
    {
     "name": "stdout",
     "output_type": "stream",
     "text": [
      "True\n",
      "True\n",
      "False\n"
     ]
    }
   ],
   "source": [
    "\n",
    "str = \"this is string example....wow!!!\";\n",
    "print (str.startswith( 'this' ))\n",
    "print (str.startswith( 'is', 2, 4 ))\n",
    "print (str.startswith( 'this', 2, 4 ))\n"
   ]
  },
  {
   "cell_type": "code",
   "execution_count": 39,
   "metadata": {},
   "outputs": [
    {
     "name": "stdout",
     "output_type": "stream",
     "text": [
      "this is string example....wow!!!\n"
     ]
    }
   ],
   "source": [
    "\n",
    "\n",
    "str = \"0000000this is string example....wow!!!0000000\";\n",
    "print (str.strip( '0' ))\n",
    "\n"
   ]
  },
  {
   "cell_type": "code",
   "execution_count": 40,
   "metadata": {},
   "outputs": [
    {
     "name": "stdout",
     "output_type": "stream",
     "text": [
      "THIS IS STRING EXAMPLE....WOW!!!\n",
      "this is string example....wow!!!\n"
     ]
    }
   ],
   "source": [
    "\n",
    "str = \"this is string example....wow!!!\";\n",
    "print (str.swapcase())\n",
    "\n",
    "str = \"THIS IS STRING EXAMPLE....WOW!!!\";\n",
    "print (str.swapcase())\n"
   ]
  },
  {
   "cell_type": "code",
   "execution_count": 41,
   "metadata": {},
   "outputs": [
    {
     "name": "stdout",
     "output_type": "stream",
     "text": [
      "This Is String Example....Wow!!!\n"
     ]
    }
   ],
   "source": [
    "\n",
    "str = \"this is string example....wow!!!\";\n",
    "print (str.title())\n",
    "\n"
   ]
  },
  {
   "cell_type": "code",
   "execution_count": 42,
   "metadata": {},
   "outputs": [
    {
     "name": "stdout",
     "output_type": "stream",
     "text": [
      "th3s 3s str3ng 2x1mpl2....w4w!!!\n"
     ]
    }
   ],
   "source": [
    "\n",
    "intab = \"aeiou\"\n",
    "outtab = \"12345\"\n",
    "trantab = str.maketrans(intab, outtab)\n",
    "\n",
    "str = \"this is string example....wow!!!\";\n",
    "print (str.translate(trantab))\n"
   ]
  },
  {
   "cell_type": "code",
   "execution_count": 43,
   "metadata": {},
   "outputs": [
    {
     "name": "stdout",
     "output_type": "stream",
     "text": [
      "str.capitalize() :  THIS IS STRING EXAMPLE....WOW!!!\n"
     ]
    }
   ],
   "source": [
    "\n",
    "str = \"this is string example....wow!!!\";\n",
    "print (\"str.capitalize() : \", str.upper())\n",
    "\n"
   ]
  },
  {
   "cell_type": "code",
   "execution_count": 44,
   "metadata": {},
   "outputs": [
    {
     "name": "stdout",
     "output_type": "stream",
     "text": [
      "00000000this is string example....wow!!!\n",
      "000000000000000000this is string example....wow!!!\n"
     ]
    }
   ],
   "source": [
    "\n",
    "str = \"this is string example....wow!!!\";\n",
    "print (str.zfill(40))\n",
    "print (str.zfill(50))\n",
    "\n",
    "\n"
   ]
  },
  {
   "cell_type": "code",
   "execution_count": 45,
   "metadata": {},
   "outputs": [
    {
     "name": "stdout",
     "output_type": "stream",
     "text": [
      "False\n",
      "True\n"
     ]
    }
   ],
   "source": [
    "\n",
    "\n",
    "str = u\"this2009\";  \n",
    "print (str.isdecimal());\n",
    "\n",
    "str = u\"23443434\";\n",
    "print (str.isdecimal())"
   ]
  },
  {
   "cell_type": "code",
   "execution_count": 1,
   "metadata": {},
   "outputs": [
    {
     "name": "stdout",
     "output_type": "stream",
     "text": [
      "e\n",
      "4\n",
      "22\n"
     ]
    }
   ],
   "source": [
    "\n",
    "    \n",
    "print ('Hello'[1])\n",
    "\n",
    "\n",
    "searchStr =  \"Red Blue Violet Green Blue Yellow Black\"\n",
    "\n",
    "print (searchStr.index(\"Blue\"))\n",
    "\n",
    "\n",
    "searchStr =  \"Red Blue Violet Green Blue Yellow Black\"\n",
    "\n",
    "\n",
    "print (searchStr.index(\"Blue\",20))\n",
    "\n"
   ]
  },
  {
   "cell_type": "code",
   "execution_count": 2,
   "metadata": {},
   "outputs": [
    {
     "name": "stdout",
     "output_type": "stream",
     "text": [
      "String is: A, B, C, D, E, F\n",
      "Split string by spaces: ['A,', 'B,', 'C,', 'D,', 'E,', 'F']\n",
      "Split string by commas: ['A', ' B', ' C', ' D', ' E', ' F']\n",
      "Split string by commas, max 2: ['A', ' B', ' C, D, E, F']\n"
     ]
    }
   ],
   "source": [
    "# splitting strings\n",
    "string1 = \"A, B, C, D, E, F\"\n",
    "\n",
    "print (\"String is:\", string1)\n",
    "print (\"Split string by spaces:\", string1.split())\n",
    "print (\"Split string by commas:\", string1.split( \",\" ))\n",
    "print (\"Split string by commas, max 2:\", string1.split( \",\", 2 ))"
   ]
  },
  {
   "cell_type": "code",
   "execution_count": 3,
   "metadata": {},
   "outputs": [
    {
     "name": "stdout",
     "output_type": "stream",
     "text": [
      "List is: ['A', 'B', 'C', 'D', 'E', 'F']\n",
      "Joining with \"___\": A___B___C___D___E___F\n",
      "Joining with \"-.-\": A-.-B-.-C-.-D-.-E-.-F\n",
      "hello\n"
     ]
    }
   ],
   "source": [
    "# joining strings\n",
    "list1 =  [ \"A\", \"B\", \"C\", \"D\", \"E\", \"F\" ]\n",
    "string2 = \"___\"\n",
    "\n",
    "print( \"List is:\", list1)\n",
    "print ('Joining with \"%s\": %s' \\\n",
    "   % ( string2, string2.join ( list1 ) ))\n",
    "print ('Joining with \"-.-\":', \"-.-\".join( list1 ))\n",
    "\n",
    "\n",
    "\n",
    "\n",
    "\n",
    "print (''.join(list('hello')))\n"
   ]
  },
  {
   "cell_type": "code",
   "execution_count": 4,
   "metadata": {},
   "outputs": [
    {
     "name": "stdout",
     "output_type": "stream",
     "text": [
      "Words:Afewgoodwords\n",
      "List: A few more good words\n"
     ]
    }
   ],
   "source": [
    "\n",
    "word1 = \"A\"\n",
    "word2 = \"few\"\n",
    "word3 = \"good\"\n",
    "word4 = \"words\"\n",
    "wordList = [\"A\", \"few\", \"more\", \"good\", \"words\"]\n",
    "\n",
    "print (\"Words:\" + word1 + word2 + word3 + word4)\n",
    "print (\"List: \" + ' '.join(wordList))\n",
    "\n"
   ]
  },
  {
   "cell_type": "code",
   "execution_count": 5,
   "metadata": {},
   "outputs": [
    {
     "name": "stdout",
     "output_type": "stream",
     "text": [
      "Second: A few more good words.\n"
     ]
    }
   ],
   "source": [
    "#Joining a list of words\n",
    "sentence = \"Second:\"\n",
    "for word in wordList:\n",
    "    sentence += \" \" + word\n",
    "sentence += \".\"\n",
    "print (sentence)\n"
   ]
  },
  {
   "cell_type": "code",
   "execution_count": 6,
   "metadata": {},
   "outputs": [
    {
     "name": "stdout",
     "output_type": "stream",
     "text": [
      "Sentence: ASA SDSD CSCSDC\n",
      "15\n"
     ]
    }
   ],
   "source": [
    "\n",
    "sentence = input(\"Sentence: \") \n",
    "text_width = len(sentence)\n",
    "print (text_width)\n"
   ]
  },
  {
   "cell_type": "code",
   "execution_count": 7,
   "metadata": {},
   "outputs": [
    {
     "name": "stdout",
     "output_type": "stream",
     "text": [
      "a (0)\n",
      "b (1)\n",
      "c (2)\n"
     ]
    }
   ],
   "source": [
    "\n",
    "foo = 'abc'\n",
    "for i in range(len(foo)):\n",
    "   print (foo[i], '(%d)' % i)\n"
   ]
  },
  {
   "cell_type": "code",
   "execution_count": 8,
   "metadata": {},
   "outputs": [
    {
     "name": "stdout",
     "output_type": "stream",
     "text": [
      "abcd\n",
      "abc\n",
      "ab\n",
      "a\n",
      "cat 3\n",
      "window 6\n",
      "defenestrate 12\n",
      "\n",
      "Hex String: 3F800000\n",
      "buildConnectionString         \n",
      "buildConnectionString\n"
     ]
    }
   ],
   "source": [
    "# Each time through we would like to chop off the last character. \n",
    "\n",
    "s = 'abcde'\n",
    "i = -1\n",
    "for i in range(-1, -len(s), -1):\n",
    "    print (s[:i])\n",
    "\n",
    "\n",
    "\n",
    "aString = 'abcd'\n",
    "final_index       = len(aString) - 1\n",
    "\n",
    "\n",
    "\n",
    "a = ['cat', 'window', 'defenestrate']\n",
    "for x in a:\n",
    "    print (x, len(x))\n",
    "    \n",
    "    \n",
    "hexStr = \"3f8\"\n",
    "\n",
    "\n",
    "print (\"\\nHex String: \" + hexStr.upper().ljust(8,'0'))\n",
    "\n",
    "\n",
    "\n",
    "s = 'buildConnectionString' \n",
    "print (s.ljust(30))                               \n",
    "print (s.ljust(20))\n"
   ]
  },
  {
   "cell_type": "code",
   "execution_count": 9,
   "metadata": {},
   "outputs": [
    {
     "name": "stdout",
     "output_type": "stream",
     "text": [
      "trondheim hammer dance\n",
      "Found it!\n"
     ]
    }
   ],
   "source": [
    "  \n",
    "print ('Trondheim Hammer Dance'.lower())\n",
    "\n",
    "\n",
    "\n",
    "name = 'Gumby'\n",
    "names = ['gumby', 'smith', 'jones']\n",
    "if name.lower() in names: print ('Found it!')\n",
    "\n"
   ]
  },
  {
   "cell_type": "code",
   "execution_count": 10,
   "metadata": {},
   "outputs": [
    {
     "name": "stdout",
     "output_type": "stream",
     "text": [
      "Original string: \"\t  \n",
      "  This is a test string. \t\t \n",
      "\"\n",
      "\n",
      "Using strip: \"This is a test string.\"\n",
      "\n",
      "Using left strip: \"This is a test string. \t\t \n",
      "\"\n",
      "\n",
      "Using right strip: \"\t  \n",
      "  This is a test string.\"\n",
      "\n"
     ]
    }
   ],
   "source": [
    "\n",
    "string1 = \"\\t  \\n  This is a test string. \\t\\t \\n\"\n",
    "\n",
    "print ('Original string: \"%s\"\\n' % string1)\n",
    "print ('Using strip: \"%s\"\\n' % string1.strip())\n",
    "print ('Using left strip: \"%s\"\\n' % string1.lstrip())\n",
    "print ('Using right strip: \"%s\"\\n' % string1.rstrip())\n"
   ]
  },
  {
   "cell_type": "code",
   "execution_count": 12,
   "metadata": {},
   "outputs": [
    {
     "name": "stdout",
     "output_type": "stream",
     "text": [
      "\n",
      "Bad:\n",
      "\t\tThis sentence has problems.   \n",
      "\n",
      "Fixed:\n",
      "This sentence has problems.   \n",
      "thiz iz an inkredible tezt\n"
     ]
    }
   ],
   "source": [
    "\n",
    "import string\n",
    "\n",
    "\n",
    "badSentence = \"\\t\\tThis sentence has problems.   \"\n",
    "\n",
    "print (\"\\nBad:\\n\" + badSentence)\n",
    "print (\"\\nFixed:\\n\" + badSentence.lstrip('\\t'))\n",
    "\n",
    "\n",
    "\n",
    "\n",
    "\n",
    "table = str.maketrans('cs', 'kz')\n",
    "\n",
    "print ('this is an incredible test'.translate(table))\n"
   ]
  },
  {
   "cell_type": "code",
   "execution_count": 13,
   "metadata": {},
   "outputs": [
    {
     "name": "stdout",
     "output_type": "stream",
     "text": [
      "a\n",
      "b\n",
      "c\n",
      "True\n",
      "False\n",
      "True\n"
     ]
    }
   ],
   "source": [
    "\n",
    "foo = 'abc'\n",
    "for c in foo:\n",
    "    print (c)\n",
    "    \n",
    "    \n",
    "    \n",
    "permissions = 'rw' \n",
    "print ('w' in permissions )\n",
    "print ('x' in permissions )\n",
    " \n",
    "subject = '$$$ Get rich now!!! $$$' \n",
    "print ('$$$' in subject)\n"
   ]
  },
  {
   "cell_type": "code",
   "execution_count": 14,
   "metadata": {},
   "outputs": [],
   "source": [
    "\n",
    "if 'Gumby' in ['gumby', 'smith', 'jones']: print ('Found it!')\n"
   ]
  },
  {
   "cell_type": "code",
   "execution_count": 15,
   "metadata": {},
   "outputs": [
    {
     "name": "stdout",
     "output_type": "stream",
     "text": [
      "What is your name? VISHWANATH RAO\n",
      "Your name does not contain the letter \"s\".\n"
     ]
    }
   ],
   "source": [
    "\n",
    "name = input('What is your name? ') \n",
    "if 's' in name:\n",
    "    print ('Your name contains the letter \"s\".' )\n",
    "else:\n",
    "    print ('Your name does not contain the letter \"s\".')\n",
    "    "
   ]
  },
  {
   "cell_type": "code",
   "execution_count": 16,
   "metadata": {},
   "outputs": [
    {
     "name": "stdout",
     "output_type": "stream",
     "text": [
      "True\n",
      "False\n",
      "True\n"
     ]
    },
    {
     "data": {
      "text/plain": [
       "True"
      ]
     },
     "execution_count": 16,
     "metadata": {},
     "output_type": "execute_result"
    }
   ],
   "source": [
    "\n",
    "print ('bc' in 'abcd')\n",
    "print ('n' in 'abcd')\n",
    "print ('nm' not in 'abcd')\n",
    "True"
   ]
  },
  {
   "cell_type": "code",
   "execution_count": 17,
   "metadata": {},
   "outputs": [
    {
     "name": "stdout",
     "output_type": "stream",
     "text": [
      "Python is number 1!\n",
      "This is a string with \"double quotes.\"\n",
      "This is another string with \"double quotes.\"\n",
      "This is a string with 'single quotes.'\n",
      "This is another string with 'single quotes.'\n",
      "This string has \"double quotes\" and 'single quotes'.\n",
      "   You can even do multiple lines.\n",
      "This string also has \"double\" and 'single' quotes.\n",
      "Hello, world!\n",
      "Hello, world!\n",
      "Let's go!\n",
      "\"Hello, world!\" she said\n",
      "Let's go!\n",
      "\"Hello, world!\" she said\n"
     ]
    }
   ],
   "source": [
    "        \n",
    "            \n",
    "print (\"%s is number %d!\" % (\"Python\", 1))\n",
    "\n",
    "\n",
    "print (\"This is a string with \\\"double quotes.\\\"\")\n",
    "print ('This is another string with \"double quotes.\"')\n",
    "print ('This is a string with \\'single quotes.\\'')\n",
    "print (\"This is another string with 'single quotes.'\")\n",
    "print (\"\"\"This string has \"double quotes\" and 'single quotes'.\n",
    "   You can even do multiple lines.\"\"\")\n",
    "print ('''This string also has \"double\" and 'single' quotes.''')\n",
    "\n",
    "\n",
    "\n",
    "\n",
    "print (\"Hello, world!\") \n",
    "print ('Hello, world!' )\n",
    "print (\"Let's go!\")\n",
    "print ('\"Hello, world!\" she said')\n",
    "\n",
    "print ('Let\\'s go!' )\n",
    "print (\"\\\"Hello, world!\\\" she said\")\n",
    "\n",
    "\n"
   ]
  },
  {
   "cell_type": "code",
   "execution_count": 18,
   "metadata": {},
   "outputs": [
    {
     "name": "stdout",
     "output_type": "stream",
     "text": [
      "hi\n",
      "there\n",
      "hi\n",
      "there\n",
      "Theez eez a test\n"
     ]
    }
   ],
   "source": [
    "\n",
    "hi = '''hi\n",
    "there'''\n",
    "\n",
    "print (hi)             # repr()\n",
    "'hi\\nthere'\n",
    "print (hi)       # str()\n",
    "\n",
    "\n",
    "\n",
    "print ('This is a test'.replace('is', 'eez'))\n",
    "\n"
   ]
  },
  {
   "cell_type": "code",
   "execution_count": 19,
   "metadata": {},
   "outputs": [
    {
     "name": "stdout",
     "output_type": "stream",
     "text": [
      "What is the air speed velocity of an unlaiden swallow?\n",
      "What is the air speed velocity of an unlaiden European swallow?\n",
      "What is the air speed velocity of an unlaiden African swallow?\n"
     ]
    }
   ],
   "source": [
    "\n",
    "question = \"What is the air speed velocity of an unlaiden swallow?\"\n",
    "print (question)\n",
    "question2 = question.replace(\"swallow\", \"European swallow\")\n",
    "print (question2)\n",
    "question3 = question.replace(\"swallow\", \"African swallow\")\n",
    "print (question3)\n"
   ]
  },
  {
   "cell_type": "code",
   "execution_count": 20,
   "metadata": {},
   "outputs": [
    {
     "name": "stdout",
     "output_type": "stream",
     "text": [
      "Original: One, one, one, one, one, one\n",
      "Replaced \"one\" with \"two\": One, two, two, two, two, two\n",
      "Replaced 3 maximum: One, two, two, two, one, one\n",
      "'Hello, world!'\n",
      "10000\n"
     ]
    }
   ],
   "source": [
    "\n",
    "\n",
    "string1 = \"One, one, one, one, one, one\"\n",
    "\n",
    "print (\"Original:\", string1)\n",
    "print ('Replaced \"one\" with \"two\":', \\\n",
    "   string1.replace( \"one\", \"two\" ))\n",
    "print (\"Replaced 3 maximum:\", string1.replace( \"one\", \"two\", 3 ))\n",
    "\n",
    "\n",
    "\n",
    "print (repr(\"Hello, world!\"))\n",
    "print (repr(10000))\n"
   ]
  },
  {
   "cell_type": "code",
   "execution_count": 21,
   "metadata": {},
   "outputs": [
    {
     "name": "stdout",
     "output_type": "stream",
     "text": [
      "22\n"
     ]
    }
   ],
   "source": [
    "\n",
    "\n",
    "searchStr =  \"Red Blue Violet Green Blue Yellow Black\"\n",
    "\n",
    "\n",
    "print (searchStr.rfind(\"Blue\"))\n",
    "\n"
   ]
  },
  {
   "cell_type": "code",
   "execution_count": 22,
   "metadata": {},
   "outputs": [
    {
     "name": "stdout",
     "output_type": "stream",
     "text": [
      "Index from end of \"test\" in \"Test1, test2, test3, test4, Test5, test6\" is 35\n"
     ]
    },
    {
     "data": {
      "text/plain": [
       "<function print>"
      ]
     },
     "execution_count": 22,
     "metadata": {},
     "output_type": "execute_result"
    }
   ],
   "source": [
    "\n",
    "string1 = \"Test1, test2, test3, test4, Test5, test6\"\n",
    "\n",
    "print ('Index from end of \"test\" in \"%s\" is %d' % ( string1, string1.rfind( \"test\" ) ))\n",
    "print\n"
   ]
  },
  {
   "cell_type": "code",
   "execution_count": 23,
   "metadata": {},
   "outputs": [
    {
     "name": "stdout",
     "output_type": "stream",
     "text": [
      "First occurrence of \"Test\" from end at index 28\n",
      "22\n"
     ]
    }
   ],
   "source": [
    "# find rindex of \"Test\"\n",
    "try:\n",
    "   print ('First occurrence of \"Test\" from end at index', string1.rindex( \"Test\" ))\n",
    "except ValueError:\n",
    "   print ('\"Test\" does not occur in \"%s\"' % string1)\n",
    "\n",
    "print\n",
    "\n",
    "\n",
    "\n",
    "searchStr =  \"Red Blue Violet Green Blue Yellow Black\"\n",
    "\n",
    "print (searchStr.rindex(\"Blue\"))\n"
   ]
  },
  {
   "cell_type": "code",
   "execution_count": 24,
   "metadata": {},
   "outputs": [
    {
     "name": "stdout",
     "output_type": "stream",
     "text": [
      "4\n",
      "Hex String: 000003F8\n"
     ]
    }
   ],
   "source": [
    "\n",
    "searchStr =  (\"Red Blue Violet Green Blue Yellow Black\")\n",
    "\n",
    "print (searchStr.rindex(\"Blue\",1,18))\n",
    "\n",
    "\n",
    "\n",
    "\n",
    "chapters = {1:5, 2:46, 3:52, 4:87, 5:90}\n",
    "hexStr = \"3f8\"\n",
    "\n",
    "\n",
    "print (\"Hex String: \" + hexStr.upper().rjust(8,'0'))"
   ]
  },
  {
   "cell_type": "code",
   "execution_count": 25,
   "metadata": {},
   "outputs": [
    {
     "name": "stdout",
     "output_type": "stream",
     "text": [
      "Chapter 1..............5\n",
      "Chapter 2.............46\n",
      "Chapter 3.............52\n",
      "Chapter 4.............87\n",
      "Chapter 5.............90\n"
     ]
    }
   ],
   "source": [
    "for x in chapters:\n",
    "    print (\"Chapter \" + str(x) + str(chapters[x]).rjust(15,'.'))"
   ]
  },
  {
   "cell_type": "code",
   "execution_count": 26,
   "metadata": {},
   "outputs": [],
   "source": [
    "   \n",
    "import string\n",
    "badSentence = \"\\t\\tThis sentence has problems.   \"\n",
    "\n"
   ]
  },
  {
   "cell_type": "code",
   "execution_count": 27,
   "metadata": {},
   "outputs": [
    {
     "name": "stdout",
     "output_type": "stream",
     "text": [
      "Length = 32\n",
      "Without trailing spaces = 29\n",
      "cd\n",
      "bcd\n",
      "abc\n",
      "abcd\n"
     ]
    }
   ],
   "source": [
    "#Strip trailing spaces\n",
    "print (\"Length = \" + str(len(badSentence)))\n",
    "print (\"Without trailing spaces = \" + str(len(badSentence.rstrip(' '))))\n",
    "\n",
    "\n",
    "\n",
    "aString = 'abcd'\n",
    "\n",
    "print (aString[2:])\n",
    "print (aString[1:])\n",
    "print (aString[:-1])\n",
    "print (aString[:])\n",
    "\n"
   ]
  },
  {
   "cell_type": "code",
   "execution_count": 28,
   "metadata": {},
   "outputs": [
    {
     "name": "stdout",
     "output_type": "stream",
     "text": [
      "P\n",
      "tho\n",
      "is\n",
      "cool!\n",
      "!\n"
     ]
    }
   ],
   "source": [
    "\n",
    "pystr = 'Python'\n",
    "iscool = 'is cool!'\n",
    "print (pystr[0])\n",
    "print (pystr[2:5])\n",
    "print (iscool[:2])\n",
    "print (iscool[3:])\n",
    "print (iscool[-1])\n",
    "\n"
   ]
  },
  {
   "cell_type": "code",
   "execution_count": 29,
   "metadata": {},
   "outputs": [
    {
     "name": "stdout",
     "output_type": "stream",
     "text": [
      "H\n",
      "ello\n",
      "World!\n"
     ]
    }
   ],
   "source": [
    "\n",
    "aString = 'Hello World!'\n",
    "print (aString[0])\n",
    "print (aString[1:5])\n",
    "print (aString[6:])\n",
    "\n",
    "\n"
   ]
  },
  {
   "cell_type": "code",
   "execution_count": 30,
   "metadata": {},
   "outputs": [
    {
     "name": "stdout",
     "output_type": "stream",
     "text": [
      "a\n",
      "bc\n",
      "cd\n",
      "d\n",
      "bc\n",
      "a\n"
     ]
    }
   ],
   "source": [
    "aString = 'abcd'\n",
    "\n",
    "print (aString[0])\n",
    "print (aString[1:3])\n",
    "print (aString[2:4])\n",
    "final_index = -len(aString)\n",
    "print (aString[-1])\n",
    "print (aString[-3:-1])\n",
    "print (aString[-4])\n",
    "\n"
   ]
  },
  {
   "cell_type": "code",
   "execution_count": 31,
   "metadata": {},
   "outputs": [
    {
     "name": "stdout",
     "output_type": "stream",
     "text": [
      "['Name', 'James', 'Occupation', 'Software Engineer']\n",
      "['1', '2', '3', '4', '5']\n",
      "['', 'usr', 'bin', 'env']\n",
      "['Using', 'the', 'default']\n",
      "['A', 'Simple', 'Sentence.']\n"
     ]
    }
   ],
   "source": [
    "\n",
    "entry =  \"Name:James:Occupation:Software Engineer\"\n",
    "\n",
    "print (entry.split(':'))\n",
    "\n",
    "\n",
    "\n",
    "print ('1+2+3+4+5'.split('+')) \n",
    "\n",
    "print ('/usr/bin/env'.split('/')) \n",
    "\n",
    "print ('Using the default'.split())\n",
    "\n",
    "\n",
    "sentence = \"A Simple Sentence.\"\n",
    "\n",
    "\n",
    "print (sentence.split())\n",
    "\n"
   ]
  },
  {
   "cell_type": "code",
   "execution_count": 32,
   "metadata": {},
   "outputs": [
    {
     "name": "stdout",
     "output_type": "stream",
     "text": [
      "this   is\n",
      "a\ttest\n",
      "['this', 'is', 'a', 'test']\n",
      "this is a test\n",
      "['This is a simple paragraph.\\n', 'It is made up of of multiple\\n', 'lines of text.']\n",
      "Hello, world!\n",
      "10000\n"
     ]
    }
   ],
   "source": [
    "\n",
    "s = \"this   is\\na\\ttest\"                  \n",
    "print (s) \n",
    "print (s.split())                                \n",
    "print (\" \".join(s.split()))\n",
    "\n",
    "\n",
    "\n",
    "paragraph = \"This is a simple paragraph.\\n\\\n",
    "It is made up of of multiple\\n\\\n",
    "lines of text.\"\n",
    "\n",
    "print (paragraph.splitlines(1))\n",
    "\n",
    "\n",
    "print (str(\"Hello, world!\"))\n",
    "print (str(10000))\n"
   ]
  },
  {
   "cell_type": "code",
   "execution_count": 33,
   "metadata": {},
   "outputs": [
    {
     "name": "stdout",
     "output_type": "stream",
     "text": [
      "y\n",
      "r\n",
      "Shark\n",
      "Sammy\n",
      "hark!\n",
      "ark\n",
      "Shark\n",
      "Shark\n",
      "SmySak\n",
      "Sya\n",
      "Sya\n",
      "!krahS ymmaS\n",
      "!rh ma\n",
      "12\n",
      "38\n",
      "2\n",
      "0\n",
      "3\n",
      "2\n",
      "6\n",
      "34\n",
      "64\n"
     ]
    }
   ],
   "source": [
    "\n",
    "ss = \"Sammy Shark!\"\n",
    "print(ss[4])\n",
    "\n",
    "\n",
    "print(ss[-3])\n",
    "\n",
    "\n",
    "print(ss[6:11])\n",
    "\n",
    "\n",
    "print(ss[:5])\n",
    "\n",
    "\n",
    "\n",
    "print(ss[7:])\n",
    "\n",
    "\n",
    "print(ss[-4:-1])\n",
    "\n",
    "\n",
    "print(ss[6:11])\n",
    "\n",
    "\n",
    "print(ss[6:11:1])\n",
    "\n",
    "\n",
    "\n",
    "print(ss[0:12:2])\n",
    "\n",
    "\n",
    "print(ss[0:12:4])\n",
    "\n",
    "\n",
    "\n",
    "print(ss[::4])\n",
    "\n",
    "print(ss[::-1])\n",
    "\n",
    "\n",
    "print(ss[::-2])\n",
    "\n",
    "\n",
    "print(len(ss))\n",
    "\n",
    "\n",
    "print(len(\"Let's print the length of this string.\"))\n",
    "\n",
    "\n",
    "print(ss.count(\"a\"))\n",
    "\n",
    "\n",
    "\n",
    "print(ss.count(\"s\"))\n",
    "\n",
    "\n",
    "likes = \"Sammy likes to swim in the ocean, likes to spin up servers, and likes to smile.\"\n",
    "print(likes.count(\"likes\"))\n",
    "\n",
    "\n",
    "print(ss.find(\"m\"))\n",
    "\n",
    "\n",
    "\n",
    "print(likes.find(\"likes\"))\n",
    "\n",
    "\n",
    "print(likes.find(\"likes\", 9))\n",
    "\n",
    "\n",
    "print(likes.find(\"likes\", 40, -6))\n",
    "\n"
   ]
  },
  {
   "cell_type": "code",
   "execution_count": 34,
   "metadata": {},
   "outputs": [
    {
     "name": "stdout",
     "output_type": "stream",
     "text": [
      "Value = 0 Value = 1 \n"
     ]
    }
   ],
   "source": [
    "\n",
    "import io\n",
    "\n",
    "out = io.StringIO()\n",
    "\n",
    "# Print these string values in a loop.\n",
    "for i in range(0, 100):\n",
    "    out.write(\"Value = \")\n",
    "    out.write(str(i))\n",
    "    out.write(\" \")\n",
    "\n",
    "# Get string and display first 20 character.\n",
    "data = out.getvalue()\n",
    "print(data[0:20])\n",
    "\n",
    "out.close()\n"
   ]
  },
  {
   "cell_type": "code",
   "execution_count": 35,
   "metadata": {},
   "outputs": [
    {
     "name": "stdout",
     "output_type": "stream",
     "text": [
      "\n",
      "Bad:\n",
      "\t\tThis paragraph \n",
      "has even more \n",
      "problems.!?   \n",
      "\n",
      "Fixed:\n",
      "This paragraph \n",
      "has even more \n",
      "problems.\n",
      "internal whitespace is kept\n",
      "Found it!\n"
     ]
    }
   ],
   "source": [
    "\n",
    "badParagraph = \"\\t\\tThis paragraph \\nhas even more \\nproblems.!?   \"\n",
    "\n",
    "\n",
    "print (\"\\nBad:\\n\" + badParagraph)\n",
    "print (\"\\nFixed:\\n\" + badParagraph.strip((' ?!\\t')))\n",
    "\n",
    "\n",
    "\n",
    "print (' internal whitespace is kept '.strip() )\n",
    "\n",
    "names = ['gumby', 'smith', 'jones']\n",
    "name = 'gumby '\n",
    "if name in names: print ('Found it!')\n",
    "if name.strip() in names: print ('Found it!')\n"
   ]
  },
  {
   "cell_type": "code",
   "execution_count": 36,
   "metadata": {},
   "outputs": [
    {
     "name": "stdout",
     "output_type": "stream",
     "text": [
      "SPAM * for * everyone\n",
      "\"test\" occurs 4 times in \n",
      "\tTest1, test2, test3, test4, Test5, test6\n",
      "\"test\" occurs 2 times after 18th character in \n",
      "\tTest1, test2, test3, test4, Test5, test6\n"
     ]
    },
    {
     "data": {
      "text/plain": [
       "<function print>"
      ]
     },
     "execution_count": 36,
     "metadata": {},
     "output_type": "execute_result"
    }
   ],
   "source": [
    "\n",
    "\n",
    "print ('*** SPAM * for * everyone!!! ***'.strip(' *!'))\n",
    "\n",
    "\n",
    "\n",
    "# counting the occurrences of a substring\n",
    "string1 = \"Test1, test2, test3, test4, Test5, test6\"\n",
    "\n",
    "print ('\"test\" occurs %d times in \\n\\t%s' % ( string1.count( \"test\" ), string1 ))\n",
    "print ('\"test\" occurs %d times after 18th character in \\n\\t%s' % ( string1.count( \"test\", 18, len( string1 ) ), string1) )\n",
    "print"
   ]
  },
  {
   "cell_type": "code",
   "execution_count": 37,
   "metadata": {},
   "outputs": [
    {
     "name": "stdout",
     "output_type": "stream",
     "text": [
      "\"Odd or even\" contains \"or\" starting at index 4\n",
      "\"even\" index is 7\n",
      "\"Odd or even\" starts with \"Odd\"\n",
      "\"Odd or even\" ends with \"even\"\n",
      "\n"
     ]
    }
   ],
   "source": [
    "\n",
    "# finding a substring in a string\n",
    "string2 = \"Odd or even\"\n",
    "\n",
    "print ('\"%s\" contains \"or\" starting at index %d' % ( string2, string2.find( \"or\" ) ))\n",
    "\n",
    "# find index of \"even\"\n",
    "try:\n",
    "   print ('\"even\" index is', string2.index( \"even\" ))\n",
    "except ValueError:\n",
    "   print ('\"even\" does not occur in \"%s\"' % string2)\n",
    "\n",
    "if string2.startswith( \"Odd\" ):\n",
    "   print ('\"%s\" starts with \"Odd\"' % string2)\n",
    "\n",
    "if string2.endswith( \"even\" ):\n",
    "   print ('\"%s\" ends with \"even\"\\n' % string2)\n",
    "   "
   ]
  },
  {
   "cell_type": "code",
   "execution_count": 38,
   "metadata": {},
   "outputs": [
    {
     "name": "stdout",
     "output_type": "stream",
     "text": [
      "<html> \n",
      "<head><title>My Home Page</title></head> \n",
      "<body> \n",
      "<h1>My Home Page</h1> \n",
      "<paragraph>Welcome to my home page!</paragraph> \n",
      "</body>\n"
     ]
    }
   ],
   "source": [
    "\n",
    "from string import Template\n",
    "\n",
    "\n",
    "template = '''<html> \n",
    "<head><title>%(title)s</title></head> \n",
    "<body> \n",
    "<h1>%(title)s</h1> \n",
    "<paragraph>%(text)s</paragraph> \n",
    "</body>'''\n",
    "\n",
    "\n",
    "data = {'title': 'My Home Page', 'text': 'Welcome to my home page!'}\n",
    "print (template % data)\n"
   ]
  },
  {
   "cell_type": "code",
   "execution_count": 39,
   "metadata": {},
   "outputs": [
    {
     "name": "stdout",
     "output_type": "stream",
     "text": [
      "<string.Template object at 0x00000248F674A1D0>\n"
     ]
    }
   ],
   "source": [
    "\n",
    "from string import Template\n",
    "\n",
    "\n",
    "s = Template('$x, glorious $x!')\n",
    "s.substitute(x='slurm')\n",
    "\n",
    "print (s)\n",
    "\n"
   ]
  },
  {
   "cell_type": "code",
   "execution_count": 40,
   "metadata": {},
   "outputs": [
    {
     "name": "stdout",
     "output_type": "stream",
     "text": [
      "Variable v = 5\n",
      "Variable v = 3\n",
      "Variable v = blue\n",
      "Variable v = red\n"
     ]
    }
   ],
   "source": [
    "\n",
    "values = [5, 3, 'blue', 'red']\n",
    "s = string.Template(\"Variable v = $v\")\n",
    "\n",
    "for x in values:\n",
    "    print (s.substitute(v=x))\n",
    "    \n",
    "    "
   ]
  },
  {
   "cell_type": "code",
   "execution_count": 41,
   "metadata": {},
   "outputs": [
    {
     "name": "stdout",
     "output_type": "stream",
     "text": [
      "<string.Template object at 0x00000248F67554E0>\n",
      "<string.Template object at 0x00000248F6755550>\n",
      "<string.Template object at 0x00000248F67554E0>\n",
      "thiz iz a tezt\n"
     ]
    }
   ],
   "source": [
    "    \n",
    "from string import Template\n",
    "\n",
    "\n",
    "s = Template(\"It's ${x}tastic!\")\n",
    "s.substitute(x='slurm')\n",
    "print (s)\n",
    "\n",
    "\n",
    "from string import Template\n",
    "\n",
    "\n",
    "s = Template(\"Make $$ selling $x!\")\n",
    "s.substitute(x='slurm')\n",
    "print (s)\n",
    "\n",
    "\n",
    "\n",
    "\n",
    "from string import Template\n",
    "\n",
    "\n",
    "s = Template('A $thing must never $action.')\n",
    "d = {\n",
    "  'thing': 'gentleman',\n",
    "  'action': 'show his socks'\n",
    "}\n",
    "s.substitute(d)\n",
    "\n",
    "print (s)\n",
    "\n",
    "\n",
    "\n",
    "\n",
    "table = str.maketrans('cs', 'kz')\n",
    "print ('this is a test'.translate(table))\n"
   ]
  },
  {
   "cell_type": "code",
   "execution_count": 42,
   "metadata": {},
   "outputs": [
    {
     "name": "stdout",
     "output_type": "stream",
     "text": [
      "this is a test.\n",
      "this is a test.\n",
      "\"test\n",
      ".\n",
      "Hello, world!\n",
      "La Peña\n",
      "b'La Pe\\xf1a'\n"
     ]
    }
   ],
   "source": [
    "\n",
    "# You can use triple double quotes, \"\"\"like this\"\"\".\n",
    "# Both single and double quotes are allowed inside.\n",
    "\n",
    "print ('''this is a test.\n",
    "this is a test.\n",
    "\"test\n",
    ".''')\n",
    "\n",
    "\n",
    "\n",
    "\n",
    "print (u'Hello, world!')\n",
    "\n",
    "\n",
    "s = u'La Pe\\xf1a'                         \n",
    "print (s)                                        \n",
    "print (s.encode('latin-1'))\n"
   ]
  },
  {
   "cell_type": "code",
   "execution_count": 43,
   "metadata": {},
   "outputs": [
    {
     "name": "stdout",
     "output_type": "stream",
     "text": [
      "utf-8\n",
      "La Peña\n",
      "spam\n"
     ]
    }
   ],
   "source": [
    "import sys\n",
    "\n",
    "print (sys.getdefaultencoding())                  \n",
    "s = u'La Pe\\xf1a' \n",
    "print (s)\n",
    "\n",
    "\n",
    "print (str(u'spam') )           # Unicode to normal\n"
   ]
  },
  {
   "cell_type": "code",
   "execution_count": null,
   "metadata": {},
   "outputs": [],
   "source": []
  }
 ],
 "metadata": {
  "kernelspec": {
   "display_name": "Python 3",
   "language": "python",
   "name": "python3"
  },
  "language_info": {
   "codemirror_mode": {
    "name": "ipython",
    "version": 3
   },
   "file_extension": ".py",
   "mimetype": "text/x-python",
   "name": "python",
   "nbconvert_exporter": "python",
   "pygments_lexer": "ipython3",
   "version": "3.7.1"
  }
 },
 "nbformat": 4,
 "nbformat_minor": 2
}
