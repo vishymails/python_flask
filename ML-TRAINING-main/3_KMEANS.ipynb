{
 "cells": [
  {
   "cell_type": "code",
   "execution_count": 3,
   "metadata": {},
   "outputs": [],
   "source": [
    "import numpy as np \n",
    "import cv2\n",
    "from matplotlib import pyplot as plt\n",
    "\n"
   ]
  },
  {
   "cell_type": "code",
   "execution_count": 4,
   "metadata": {},
   "outputs": [
    {
     "name": "stdout",
     "output_type": "stream",
     "text": [
      "[[19 15]\n",
      " [30 17]\n",
      " [25 20]\n",
      " [26 39]\n",
      " [28 33]\n",
      " [15 22]\n",
      " [16 11]\n",
      " [39 17]\n",
      " [32 41]\n",
      " [10 15]\n",
      " [28 15]\n",
      " [10 14]\n",
      " [38 17]\n",
      " [21 44]\n",
      " [17 25]\n",
      " [13 29]\n",
      " [28 11]\n",
      " [25 31]\n",
      " [26 28]\n",
      " [34 12]\n",
      " [33 26]\n",
      " [44 22]\n",
      " [32 43]\n",
      " [17 37]\n",
      " [15 24]]\n",
      "[[57 56]\n",
      " [62 56]\n",
      " [61 61]\n",
      " [66 57]\n",
      " [66 66]\n",
      " [61 58]\n",
      " [64 58]\n",
      " [69 69]\n",
      " [55 59]\n",
      " [69 64]\n",
      " [66 67]\n",
      " [65 61]\n",
      " [68 68]\n",
      " [64 57]\n",
      " [60 57]\n",
      " [68 64]\n",
      " [65 59]\n",
      " [59 63]\n",
      " [60 55]\n",
      " [68 60]\n",
      " [63 61]\n",
      " [67 68]\n",
      " [57 56]\n",
      " [60 64]\n",
      " [55 69]]\n"
     ]
    }
   ],
   "source": [
    "X = np.random.randint(10, 45, (25,2))\n",
    "Y = np.random.randint(55, 70, (25, 2))\n",
    "Z = np.vstack((X,Y))\n",
    "\n",
    "Z = np.float32(Z)\n",
    "\n",
    "print (X)\n",
    "print(Y)\n",
    "\n"
   ]
  },
  {
   "cell_type": "code",
   "execution_count": 5,
   "metadata": {},
   "outputs": [
    {
     "name": "stdout",
     "output_type": "stream",
     "text": [
      "[[19. 15.]\n",
      " [30. 17.]\n",
      " [25. 20.]\n",
      " [26. 39.]\n",
      " [28. 33.]\n",
      " [15. 22.]\n",
      " [16. 11.]\n",
      " [39. 17.]\n",
      " [32. 41.]\n",
      " [10. 15.]\n",
      " [28. 15.]\n",
      " [10. 14.]\n",
      " [38. 17.]\n",
      " [21. 44.]\n",
      " [17. 25.]\n",
      " [13. 29.]\n",
      " [28. 11.]\n",
      " [25. 31.]\n",
      " [26. 28.]\n",
      " [34. 12.]\n",
      " [33. 26.]\n",
      " [44. 22.]\n",
      " [32. 43.]\n",
      " [17. 37.]\n",
      " [15. 24.]\n",
      " [57. 56.]\n",
      " [62. 56.]\n",
      " [61. 61.]\n",
      " [66. 57.]\n",
      " [66. 66.]\n",
      " [61. 58.]\n",
      " [64. 58.]\n",
      " [69. 69.]\n",
      " [55. 59.]\n",
      " [69. 64.]\n",
      " [66. 67.]\n",
      " [65. 61.]\n",
      " [68. 68.]\n",
      " [64. 57.]\n",
      " [60. 57.]\n",
      " [68. 64.]\n",
      " [65. 59.]\n",
      " [59. 63.]\n",
      " [60. 55.]\n",
      " [68. 60.]\n",
      " [63. 61.]\n",
      " [67. 68.]\n",
      " [57. 56.]\n",
      " [60. 64.]\n",
      " [55. 69.]]\n"
     ]
    }
   ],
   "source": [
    "print(Z)"
   ]
  },
  {
   "cell_type": "code",
   "execution_count": 6,
   "metadata": {},
   "outputs": [],
   "source": [
    "criteria = (cv2.TERM_CRITERIA_EPS + cv2.TERM_CRITERIA_MAX_ITER, 10, 1.0)\n",
    "\n",
    "ret, label, center = cv2.kmeans(Z, 2, None, criteria, 10, cv2.KMEANS_RANDOM_CENTERS)"
   ]
  },
  {
   "cell_type": "code",
   "execution_count": 8,
   "metadata": {},
   "outputs": [
    {
     "name": "stdout",
     "output_type": "stream",
     "text": [
      "[[19. 15.]\n",
      " [30. 17.]\n",
      " [25. 20.]\n",
      " [26. 39.]\n",
      " [28. 33.]\n",
      " [15. 22.]\n",
      " [16. 11.]\n",
      " [39. 17.]\n",
      " [32. 41.]\n",
      " [10. 15.]\n",
      " [28. 15.]\n",
      " [10. 14.]\n",
      " [38. 17.]\n",
      " [21. 44.]\n",
      " [17. 25.]\n",
      " [13. 29.]\n",
      " [28. 11.]\n",
      " [25. 31.]\n",
      " [26. 28.]\n",
      " [34. 12.]\n",
      " [33. 26.]\n",
      " [44. 22.]\n",
      " [32. 43.]\n",
      " [17. 37.]\n",
      " [15. 24.]]\n",
      "[[57. 56.]\n",
      " [62. 56.]\n",
      " [61. 61.]\n",
      " [66. 57.]\n",
      " [66. 66.]\n",
      " [61. 58.]\n",
      " [64. 58.]\n",
      " [69. 69.]\n",
      " [55. 59.]\n",
      " [69. 64.]\n",
      " [66. 67.]\n",
      " [65. 61.]\n",
      " [68. 68.]\n",
      " [64. 57.]\n",
      " [60. 57.]\n",
      " [68. 64.]\n",
      " [65. 59.]\n",
      " [59. 63.]\n",
      " [60. 55.]\n",
      " [68. 60.]\n",
      " [63. 61.]\n",
      " [67. 68.]\n",
      " [57. 56.]\n",
      " [60. 64.]\n",
      " [55. 69.]]\n"
     ]
    }
   ],
   "source": [
    "A = Z[label.ravel() == 0]\n",
    "B = Z[label.ravel() == 1]\n",
    "\n",
    "print(A)\n",
    "\n",
    "print(B)"
   ]
  },
  {
   "cell_type": "code",
   "execution_count": 11,
   "metadata": {},
   "outputs": [
    {
     "data": {
      "image/png": "[encoded data removed]",
      "text/plain": [
       "<Figure size 432x288 with 1 Axes>"
      ]
     },
     "metadata": {
      "needs_background": "light"
     },
     "output_type": "display_data"
    }
   ],
   "source": [
    "plt.scatter(A[:,0], A[:, 1])\n",
    "\n",
    "plt.scatter(B[:,0], B[:, 1], c = 'r')\n",
    "\n",
    "\n",
    "\n",
    "plt.scatter(center[:, 0], center[:, 1], s= 80, c = 'y', marker = 's')\n",
    "plt.xlabel('Test Data '),plt.ylabel('z samples')\n",
    "plt.show()"
   ]
  },
  {
   "cell_type": "code",
   "execution_count": 12,
   "metadata": {},
   "outputs": [],
   "source": [
    "# example without cv2 apis\n",
    "\n",
    "from sklearn import metrics\n",
    "from scipy.spatial.distance import cdist\n",
    "import numpy as np\n",
    "import matplotlib.pyplot as plt\n",
    "\n"
   ]
  },
  {
   "cell_type": "code",
   "execution_count": 13,
   "metadata": {},
   "outputs": [],
   "source": [
    "x1 = np.array([3,1,1,2,1,6,6,6,5,6,7,8,9,8,9,9,8])\n",
    "x2 = np.array([5,4,5,6,5,8,6,7,6,7,1,2,1,2,3,2,3])\n",
    "\n",
    "X = np.array(list(zip(x1,x2))).reshape(len(x1),2)\n",
    "\n"
   ]
  },
  {
   "cell_type": "code",
   "execution_count": 14,
   "metadata": {},
   "outputs": [
    {
     "data": {
      "image/png": "[encoded data removed]",
      "text/plain": [
       "<Figure size 432x288 with 1 Axes>"
      ]
     },
     "metadata": {
      "needs_background": "light"
     },
     "output_type": "display_data"
    }
   ],
   "source": [
    "plt.plot()\n",
    "plt.xlim([0,10])\n",
    "plt.ylim([0, 10])\n",
    "\n",
    "plt.title(\"Dataset prepared\")\n",
    "plt.scatter(x1, x2)\n",
    "\n",
    "plt.show()"
   ]
  },
  {
   "cell_type": "code",
   "execution_count": 16,
   "metadata": {},
   "outputs": [
    {
     "name": "stdout",
     "output_type": "stream",
     "text": [
      "1: 3.4577032384495707\n",
      "2: 1.7687413573405673\n",
      "3: 0.8819889697423957\n",
      "4: 0.7867963662217718\n",
      "5: 0.6635212812400347\n",
      "6: 0.5920126825722444\n",
      "7: 0.5346344802455644\n",
      "8: 0.41652236641410356\n",
      "9: 0.35294117647058826\n"
     ]
    }
   ],
   "source": [
    "from sklearn.cluster import KMeans\n",
    "\n",
    "distortions = []\n",
    "inertias = []\n",
    "mapping1 = {}\n",
    "mapping2 = {}\n",
    "K = range(1,10)\n",
    "\n",
    "\n",
    "for k in K :\n",
    "    \n",
    "    kmeanModel = KMeans(n_clusters=k).fit(X)\n",
    "    kmeanModel.fit(X)\n",
    "    \n",
    "    distortions.append(sum(np.min(cdist(X, kmeanModel.cluster_centers_, 'euclidean'), axis=1))/X.shape[0])\n",
    "    \n",
    "    inertias.append(kmeanModel.inertia_)\n",
    "    \n",
    "    mapping1[k] = sum(np.min(cdist(X, kmeanModel.cluster_centers_, 'euclidean'), axis=1))/X.shape[0]\n",
    "    \n",
    "    mapping2[k] = kmeanModel.inertia_\n",
    "\n",
    "    \n",
    "    \n",
    "for key, val in mapping1.items() :\n",
    "    print(str(key) + \": \" + str(val))\n",
    "    "
   ]
  },
  {
   "cell_type": "code",
   "execution_count": 17,
   "metadata": {},
   "outputs": [
    {
     "data": {
      "image/png": "[encoded data removed]",
      "text/plain": [
       "<Figure size 432x288 with 1 Axes>"
      ]
     },
     "metadata": {
      "needs_background": "light"
     },
     "output_type": "display_data"
    }
   ],
   "source": [
    "plt.plot(K, distortions, 'bx-')\n",
    "plt.xlabel(\"Values of K\" )\n",
    "plt.ylabel('Distortion')\n",
    "plt.title(\" The Elbow Method\")\n",
    "plt.show()"
   ]
  },
  {
   "cell_type": "code",
   "execution_count": null,
   "metadata": {},
   "outputs": [],
   "source": []
  }
 ],
 "metadata": {
  "kernelspec": {
   "display_name": "Python 3",
   "language": "python",
   "name": "python3"
  },
  "language_info": {
   "codemirror_mode": {
    "name": "ipython",
    "version": 3
   },
   "file_extension": ".py",
   "mimetype": "text/x-python",
   "name": "python",
   "nbconvert_exporter": "python",
   "pygments_lexer": "ipython3",
   "version": "3.7.1"
  }
 },
 "nbformat": 4,
 "nbformat_minor": 2
}
